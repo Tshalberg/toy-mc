{
 "cells": [
  {
   "cell_type": "code",
   "execution_count": 180,
   "metadata": {},
   "outputs": [],
   "source": [
    "%load_ext autoreload\n",
    "%autoreload 2"
   ]
  },
  {
   "cell_type": "code",
   "execution_count": 181,
   "metadata": {},
   "outputs": [],
   "source": [
    "import numpy as np\n",
    "import matplotlib as mpl\n",
    "import matplotlib.pyplot as plt\n",
    "import time, math"
   ]
  },
  {
   "cell_type": "code",
   "execution_count": 175,
   "metadata": {},
   "outputs": [],
   "source": [
    "def rng():\n",
    "    return np.random.rand()\n",
    "#     return xoroshiro128p_uniform_float32(rng_states, thread_id)\n",
    "\n",
    "def ln(p):\n",
    "    ranNum = rng()\n",
    "    return -math.log(ranNum)*p\n",
    "#     ranNum = curand_uniform(local_rand_state);\n",
    "\n",
    "\n",
    "def domhit(center, radius, ro, rd, t_min, t_max):\n",
    "    oc = ro - center\n",
    "    a = rd.dot(rd)\n",
    "    b = oc.dot(rd)\n",
    "    c = oc.dot(oc) - radius*radius\n",
    "    discriminant = b*b - a*c\n",
    "    if discriminant > 0:\n",
    "        temp = (-b - math.sqrt(b*b - a*c))/a\n",
    "        if temp < t_max and temp > t_min:\n",
    "            pHit = ro + rd*temp\n",
    "            tHit = temp\n",
    "            return True, pHit, tHit\n",
    "\n",
    "        temp = (-b + math.sqrt(b*b - a*c))/a\n",
    "        if temp < t_max and temp > t_min:\n",
    "            pHit = ro + rd*temp\n",
    "            tHit = temp\n",
    "            return True, pHit, tHit\n",
    "    return False, 0, 0\n",
    "\n",
    "\n",
    "def get_random_dir():\n",
    "    d = rng()*math.pi*2\n",
    "    vx = math.cos(d)\n",
    "    vy = math.sin(d)\n",
    "    return np.array([vx, vy], dtype=np.float32)\n",
    "#     return np.array([-1, 0], dtype=np.float32)\n"
   ]
  },
  {
   "cell_type": "code",
   "execution_count": 223,
   "metadata": {},
   "outputs": [],
   "source": [
    "def calc_hits(pInit, pOut, doms, rs, domhits, domhitstimes, pa, ps, Nphotons):\n",
    "    thread_id = 0\n",
    "    if thread_id < Nphotons:\n",
    "        rd = get_random_dir() \n",
    "        ro = pInit\n",
    "        pDist = ln(pa)\n",
    "        scatter = ln(ps)\n",
    "        t = 0\n",
    "        while scatter < pDist:\n",
    "\n",
    "            for i in range(len(doms)):\n",
    "                center = doms[i]\n",
    "                radius = rs[i]\n",
    "                hit, pHit, tHit = domhit(center, radius, ro, rd, 0, scatter)\n",
    "                if hit:\n",
    "                    domhits[thread_id, i] += 1\n",
    "                    domhitstimes[thread_id, i] = t + tHit\n",
    "                    pOut[thread_id, 0] = pHit[0]\n",
    "                    pOut[thread_id, 1] = pHit[1]\n",
    "                    return\n",
    "\n",
    "            t += scatter\n",
    "            ro += rd*scatter\n",
    "            pDist -= scatter\n",
    "            rd = get_random_dir()\n",
    "            scatter = ln(ps)\n",
    "            \n",
    "        for i in range(len(doms)):\n",
    "            center = doms[i]\n",
    "            radius = rs[i]\n",
    "            hit, pHit, tHit = domhit(center, radius, ro, rd, 0, pDist)\n",
    "            if hit:\n",
    "                domhits[thread_id, i] += 1\n",
    "                domhitstimes[thread_id, i] = t + tHit\n",
    "                pOut[thread_id, 0] = pHit[0]\n",
    "                pOut[thread_id, 1] = pHit[1]\n",
    "                return\n",
    "\n",
    "        pOut[thread_id, 0] = np.nan\n",
    "        pOut[thread_id, 1] = np.nan\n",
    "\n",
    "\n"
   ]
  },
  {
   "cell_type": "code",
   "execution_count": 225,
   "metadata": {},
   "outputs": [
    {
     "data": {
      "image/png": "[encoded data removed]",
      "text/plain": [
       "<Figure size 720x720 with 1 Axes>"
      ]
     },
     "metadata": {
      "needs_background": "light"
     },
     "output_type": "display_data"
    }
   ],
   "source": [
    "Nphotons = 10\n",
    "N = 1\n",
    "pa = 20\n",
    "ps = 5\n",
    "\n",
    "fig, ax = plt.subplots(figsize=(10,10))\n",
    "for i in range(100):\n",
    "    domhits = np.zeros(1)\n",
    "    pInit = np.zeros(2)\n",
    "    pOut= np.zeros((1,2))\n",
    "\n",
    "\n",
    "    doms = np.array([[ 4,  0],\n",
    "                     [-4,  0],\n",
    "                     [ 0,  4],\n",
    "                     [ 0, -4]], dtype=np.float32)\n",
    "\n",
    "    r = 2\n",
    "    rs = np.ones(len(doms), dtype=np.float32)*r\n",
    "\n",
    "    domhits = np.zeros((N, len(rs)), dtype=np.int32)\n",
    "    domhitstimes = np.zeros((N, len(rs)), dtype=np.float32)\n",
    "\n",
    "\n",
    "    calc_hits(pInit, pOut, doms, rs, domhits, domhitstimes, pa, ps, Nphotons)\n",
    "\n",
    "\n",
    "\n",
    "\n",
    "\n",
    "    grid = [[-8, 8],\n",
    "            [-8, 8]]\n",
    "\n",
    "    for center, radius, hits in zip(doms, rs, domhits[0]):\n",
    "        c = plt.Circle(center, radius, fc=\"white\", ec=\"blue\")\n",
    "        ax.add_artist(c)\n",
    "        ax.text(center[0]-0.5, center[1]-0.5, hits, fontsize=12)\n",
    "\n",
    "    if grid is not None:\n",
    "        ax.set_xlim(grid[0][0], grid[0][1])\n",
    "        ax.set_ylim(grid[1][0], grid[1][1])\n",
    "\n",
    "\n",
    "    ax.scatter(*pOut[0], zorder=3)\n",
    "\n"
   ]
  },
  {
   "cell_type": "code",
   "execution_count": null,
   "metadata": {},
   "outputs": [],
   "source": []
  },
  {
   "cell_type": "code",
   "execution_count": 79,
   "metadata": {},
   "outputs": [],
   "source": [
    "# x_start, y_start = np.array(initial_position, dtype=np.float32)\n",
    "# out_x, out_y = np.zeros(N, dtype=np.float32), np.zeros(N, dtype=np.float32)\n",
    "# initial_position = np.zeros(2)\n",
    "# np.nan\n",
    "# math.log()"
   ]
  },
  {
   "cell_type": "code",
   "execution_count": 2,
   "metadata": {},
   "outputs": [
    {
     "data": {
      "text/plain": [
       "14"
      ]
     },
     "execution_count": 2,
     "metadata": {},
     "output_type": "execute_result"
    }
   ],
   "source": [
    "a = [1, 2, 3]\n",
    "b = [1, 2, 3]"
   ]
  },
  {
   "cell_type": "code",
   "execution_count": 26,
   "metadata": {},
   "outputs": [],
   "source": [
    "import numpy as np\n",
    "import math"
   ]
  },
  {
   "cell_type": "code",
   "execution_count": 98,
   "metadata": {},
   "outputs": [
    {
     "name": "stdout",
     "output_type": "stream",
     "text": [
      "True [4. 0.] 4.0\n"
     ]
    }
   ],
   "source": [
    "t_min = 0\n",
    "t_max = 100\n",
    "ro = np.array([0,0], dtype=np.float32)\n",
    "rd = np.array([1,0], dtype=np.float32)\n",
    "\n",
    "center = np.array([2, 0])\n",
    "radius = 2\n",
    "\n",
    "\n",
    "domhit, pHit, tHit = hit(center, radius, ro, rd, t_min, t_max)\n",
    "\n",
    "print domhit, pHit, tHit\n"
   ]
  },
  {
   "cell_type": "code",
   "execution_count": null,
   "metadata": {},
   "outputs": [],
   "source": []
  }
 ],
 "metadata": {
  "kernelspec": {
   "display_name": "Python 2",
   "language": "python",
   "name": "python2"
  },
  "language_info": {
   "codemirror_mode": {
    "name": "ipython",
    "version": 2
   },
   "file_extension": ".py",
   "mimetype": "text/x-python",
   "name": "python",
   "nbconvert_exporter": "python",
   "pygments_lexer": "ipython2",
   "version": "2.7.16"
  }
 },
 "nbformat": 4,
 "nbformat_minor": 2
}
